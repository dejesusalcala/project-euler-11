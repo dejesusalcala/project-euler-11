{
 "cells": [
  {
   "cell_type": "raw",
   "metadata": {},
   "source": [
    "---\n",
    "title: Project Euler\n",
    "author: Angel Alcala Ruiz\n",
    "date: January 3, 2024\n",
    "format:\n",
    "    html:\n",
    "        code-fold: show\n",
    "        code-tools: true\n",
    "---"
   ]
  },
  {
   "attachments": {},
   "cell_type": "markdown",
   "metadata": {},
   "source": [
    "# Project Euler"
   ]
  },
  {
   "attachments": {},
   "cell_type": "markdown",
   "metadata": {},
   "source": [
    "## Problem 11: Largest Product in a Grid"
   ]
  },
  {
   "attachments": {},
   "cell_type": "markdown",
   "metadata": {},
   "source": [
    "In the 20x20 grid below, four numbers along a diagonal line have been marked in red."
   ]
  },
  {
   "cell_type": "markdown",
   "metadata": {},
   "source": [
    "![](./images/image1.png){width=85%}\n"
   ]
  },
  {
   "attachments": {},
   "cell_type": "markdown",
   "metadata": {},
   "source": [
    "The product of these numbers is $1,788,696 = 26 \\times 63 \\times 78 \\times 14$.\n",
    "\n",
    "What is the greatest product of four adjacent numbers in the same direction (up, down, left, right, or diagonally) in the 20x20 grid?"
   ]
  },
  {
   "attachments": {},
   "cell_type": "markdown",
   "metadata": {},
   "source": [
    "Let's solve using **Julia**."
   ]
  },
  {
   "attachments": {},
   "cell_type": "markdown",
   "metadata": {},
   "source": [
    "We can use a matrix for this problem which we'll define as `Grid` below"
   ]
  },
  {
   "cell_type": "code",
   "execution_count": 2,
   "metadata": {},
   "outputs": [
    {
     "data": {
      "text/plain": [
       "20×20 Matrix{Int64}:\n",
       "  8   2  22  97  38  15   0  40   0  …   5   7  78  52  12  50  77  91   8\n",
       " 49  49  99  40  17  81  18  57  60     40  98  43  69  48   4  56  62   0\n",
       " 81  49  31  73  55  79  14  29  93     67  53  88  30   3  49  13  36  65\n",
       " 52  70  95  23   4  60  11  42  69     56   1  32  56  71  37   2  36  91\n",
       " 22  31  16  71  51  67  63  89  41     54  22  40  40  28  66  33  13  80\n",
       " 24  47  32  60  99   3  45   2  44  …  53  78  36  84  20  35  17  12  50\n",
       " 32  98  81  28  64  23  67  10  26     67  59  54  70  66  18  38  64  70\n",
       " 67  26  20  68   2  62  12  20  95     39  63   8  40  91  66  49  94  21\n",
       " 24  55  58   5  66  73  99  26  97     78  96  83  14  88  34  89  63  72\n",
       " 21  36  23   9  75   0  76  44  20     14   0  61  33  97  34  31  33  95\n",
       " 78  17  53  28  22  75  31  67  15  …  80   4  62  16  14   9  53  56  92\n",
       " 16  39   5  42  96  35  31  47  55     24   0  17  54  24  36  29  85  57\n",
       " 86  56   0  48  35  71  89   7   5     37  44  60  21  58  51  54  17  58\n",
       " 19  80  81  68   5  94  47  69  28     13  86  52  17  77   4  89  55  40\n",
       "  4  52   8  83  97  35  99  16   7     32  16  26  26  79  33  27  98  66\n",
       " 88  36  68  87  57  62  20  72   3  …  67  46  55  12  32  63  93  53  69\n",
       "  4  42  16  73  38  25  39  11  24     18   8  46  29  32  40  62  76  36\n",
       " 20  69  36  41  72  30  23  88  34     69  82  67  59  85  74   4  36  16\n",
       " 20  73  35  29  78  31  90   1  74     71  48  86  81  16  23  57   5  54\n",
       "  1  70  54  71  83  51  54  69  16     48  61  43  52   1  89  19  67  48"
      ]
     },
     "metadata": {},
     "output_type": "display_data"
    }
   ],
   "source": [
    "Grid = [08 02 22 97 38 15 00 40 00 75 04 05 07 78 52 12 50 77 91 08;\n",
    "        49 49 99 40 17 81 18 57 60 87 17 40 98 43 69 48 04 56 62 00;\n",
    "        81 49 31 73 55 79 14 29 93 71 40 67 53 88 30 03 49 13 36 65;\n",
    "        52 70 95 23 04 60 11 42 69 24 68 56 01 32 56 71 37 02 36 91;\n",
    "        22 31 16 71 51 67 63 89 41 92 36 54 22 40 40 28 66 33 13 80;\n",
    "        24 47 32 60 99 03 45 02 44 75 33 53 78 36 84 20 35 17 12 50;\n",
    "        32 98 81 28 64 23 67 10 26 38 40 67 59 54 70 66 18 38 64 70;\n",
    "        67 26 20 68 02 62 12 20 95 63 94 39 63 08 40 91 66 49 94 21;\n",
    "        24 55 58 05 66 73 99 26 97 17 78 78 96 83 14 88 34 89 63 72;\n",
    "        21 36 23 09 75 00 76 44 20 45 35 14 00 61 33 97 34 31 33 95;\n",
    "        78 17 53 28 22 75 31 67 15 94 03 80 04 62 16 14 09 53 56 92;\n",
    "        16 39 05 42 96 35 31 47 55 58 88 24 00 17 54 24 36 29 85 57;\n",
    "        86 56 00 48 35 71 89 07 05 44 44 37 44 60 21 58 51 54 17 58;\n",
    "        19 80 81 68 05 94 47 69 28 73 92 13 86 52 17 77 04 89 55 40;\n",
    "        04 52 08 83 97 35 99 16 07 97 57 32 16 26 26 79 33 27 98 66;\n",
    "        88 36 68 87 57 62 20 72 03 46 33 67 46 55 12 32 63 93 53 69;\n",
    "        04 42 16 73 38 25 39 11 24 94 72 18 08 46 29 32 40 62 76 36;\n",
    "        20 69 36 41 72 30 23 88 34 62 99 69 82 67 59 85 74 04 36 16;\n",
    "        20 73 35 29 78 31 90 01 74 31 49 71 48 86 81 16 23 57 05 54;\n",
    "        01 70 54 71 83 51 54 69 16 92 33 48 61 43 52 01 89 19 67 48]"
   ]
  },
  {
   "attachments": {},
   "cell_type": "markdown",
   "metadata": {},
   "source": [
    "Let's also start by identifying how we'll move on this grid to find the maximum product. \n",
    "\n",
    "Let's notice that if we move along every position on the grid we can cover each possibility with four directions: *up*, *diagonally up* from left to right, *right*, and *diagonally down* from left to right.\n",
    "\n",
    "There's no need to have a left direction, a down direction, or the diagonal directions from right to left because the above directions cover all scenarios. Let's demonstrate this with an example. At position `Grid[7,9] = 26` (row 7, column 9) the product in the *diagonally down* from the left to right direction the product is $26 \\times 63 \\times 78 \\times 14$. This is the same product when we're at position `Grid[10,12] = 14` in the *diagonally up* from the right to left direction which is $14 \\times 78 \\times 63 \\times 28$.\n",
    "\n",
    "The same will be true with the other directions. Therefore we can just consider the previous four directions because we can elimintate any unnecessary compututions for efficiency purposes.\n",
    "\n",
    "In our code we can define the following\n",
    "- `product1` refers to the product in the *up* direction\n",
    "- `product2` refers to the product in the *diagonally up* direction\n",
    "- `product3` refers to the product in the *right* direction\n",
    "- `product4` refers to the product in the *diagonally down* direction \n",
    "\n",
    "Therefore we have the following code"
   ]
  },
  {
   "cell_type": "code",
   "execution_count": 3,
   "metadata": {},
   "outputs": [
    {
     "name": "stdout",
     "output_type": "stream",
     "text": [
      "max_product = 70600674\n",
      "row = 16\n",
      "col = 4\n",
      "direction = 2\n"
     ]
    }
   ],
   "source": [
    "# Initialize products\n",
    "max_product = 1\n",
    "product1 = 1\n",
    "product2 = 1\n",
    "product3 = 1\n",
    "product4 = 1\n",
    "\n",
    "prod_vector = []\n",
    "\n",
    "# Used to determine position and direction of product\n",
    "pos_m = 0\n",
    "pos_n = 0\n",
    "direction = 0\n",
    "\n",
    "for rows = 1:20\n",
    "    for cols = 1:20\n",
    "\n",
    "        # Reset products and prod_vector when starting new position on grid\n",
    "        product1 = 1\n",
    "        product2 = 1\n",
    "        product3 = 1\n",
    "        product4 = 1\n",
    "        prod_vector = []\n",
    "\n",
    "        for up = 1:4\n",
    "\n",
    "            # Boundary case\n",
    "            if (rows - up + 1) == 0\n",
    "                break\n",
    "            end\n",
    "\n",
    "            product1 = product1*Grid[rows - up + 1, cols] \n",
    "        end\n",
    "        \n",
    "        for diagonal_up = 1:4\n",
    "\n",
    "            # Boundary case\n",
    "            if ((rows - diagonal_up + 1) == 0) | ((cols + diagonal_up - 1) == 21)\n",
    "                break\n",
    "            end\n",
    "\n",
    "            product2 = product2*Grid[rows - diagonal_up + 1, cols + diagonal_up - 1]\n",
    "        end\n",
    "\n",
    "        for right = 1:4\n",
    "\n",
    "            # Boundary case\n",
    "            if (cols + right - 1) == 21\n",
    "                break\n",
    "            end\n",
    "\n",
    "            product3 = product3*Grid[rows, cols + right - 1]\n",
    "        end\n",
    "\n",
    "        for diagonal_down = 1:4\n",
    "\n",
    "            # Boundary case\n",
    "            if ((rows + diagonal_down - 1) == 21) | ((cols + diagonal_down - 1) == 21)\n",
    "                break\n",
    "            end\n",
    "\n",
    "            product4 = product4*Grid[rows + diagonal_down - 1, cols + diagonal_down - 1]\n",
    "        end\n",
    "        \n",
    "        # Add all products to prod_vector\n",
    "        prod_vector = push!(prod_vector, product1, product2, product3, product4)\n",
    "        \n",
    "        # Update max product at every postion if condition is true, find max product\n",
    "        if max_product < maximum(prod_vector)\n",
    "            direction = argmax(prod_vector)\n",
    "            max_product = maximum(prod_vector)\n",
    "            pos_m = rows\n",
    "            pos_n = cols\n",
    "        end\n",
    "\n",
    "    end\n",
    "end\n",
    "\n",
    "println(\"max_product = \", max_product)\n",
    "println(\"row = \", pos_m)\n",
    "println(\"col = \", pos_n)\n",
    "println(\"direction = \", direction)"
   ]
  },
  {
   "attachments": {},
   "cell_type": "markdown",
   "metadata": {},
   "source": [
    "Therefore we have that the greatest product is $70,600,674 = 87 \\times 97 \\times 94 \\times 89$ which is at position `Grid[16,4]` (row 16, column 4)in the diagonally up direction. "
   ]
  },
  {
   "attachments": {},
   "cell_type": "markdown",
   "metadata": {},
   "source": [
    "![ ](./images/image2.png){width=85%}\n"
   ]
  },
  {
   "cell_type": "markdown",
   "metadata": {},
   "source": []
  }
 ],
 "metadata": {
  "kernelspec": {
   "display_name": "Julia 1.9.3",
   "language": "julia",
   "name": "julia-1.9"
  },
  "language_info": {
   "file_extension": ".jl",
   "mimetype": "application/julia",
   "name": "julia",
   "version": "1.9.3"
  },
  "orig_nbformat": 4
 },
 "nbformat": 4,
 "nbformat_minor": 2
}
